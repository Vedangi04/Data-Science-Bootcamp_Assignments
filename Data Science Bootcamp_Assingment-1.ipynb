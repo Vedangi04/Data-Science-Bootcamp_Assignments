{
 "cells": [
  {
   "cell_type": "markdown",
   "id": "7f29339d-d328-44fb-b375-291c54ce6636",
   "metadata": {},
   "source": [
    "1. Display Fibonacci Series up to 10 terms"
   ]
  },
  {
   "cell_type": "code",
   "execution_count": 1,
   "id": "123d1358-b1d9-4e0a-b24b-c344a4076219",
   "metadata": {},
   "outputs": [
    {
     "name": "stdout",
     "output_type": "stream",
     "text": [
      "[0, 1, 1, 2, 3, 5, 8, 13, 21, 34]\n"
     ]
    }
   ],
   "source": [
    "def fibonacci(n):\n",
    "    fib_series = [0, 1]\n",
    "    for i in range(2, n):\n",
    "        fib_series.append(fib_series[-1] + fib_series[-2])\n",
    "    return fib_series\n",
    "\n",
    "print(fibonacci(10))"
   ]
  },
  {
   "cell_type": "markdown",
   "id": "d1076f32-6ff4-4adb-976f-ad421e215d71",
   "metadata": {},
   "source": [
    "2. Display numbers at the odd indices of a list"
   ]
  },
  {
   "cell_type": "code",
   "execution_count": 2,
   "id": "548a8f4e-2ab6-43f6-9a13-ee8fb3c6d393",
   "metadata": {},
   "outputs": [
    {
     "name": "stdout",
     "output_type": "stream",
     "text": [
      "[20, 40, 60, 80, 100]\n"
     ]
    }
   ],
   "source": [
    "def odd_index_numbers(lst):\n",
    "    return [lst[i] for i in range(len(lst)) if i % 2 != 0]\n",
    "\n",
    "sample_list = [10, 20, 30, 40, 50, 60, 70, 80, 90, 100]\n",
    "print(odd_index_numbers(sample_list))"
   ]
  },
  {
   "cell_type": "markdown",
   "id": "68817195-c43d-476a-99d8-4125a37eebd8",
   "metadata": {},
   "source": [
    "3. Count the number of different words in the given text"
   ]
  },
  {
   "cell_type": "code",
   "execution_count": 5,
   "id": "226145f5-d448-4ee2-9b94-f5354206893a",
   "metadata": {},
   "outputs": [
    {
     "name": "stdout",
     "output_type": "stream",
     "text": [
      "47\n"
     ]
    }
   ],
   "source": [
    "string = \"\"\"\n",
    "\n",
    "I have provided this text to provide tips on creating interesting paragraphs.\n",
    "\n",
    "First, start with a clear topic sentence that introduces the main idea.\n",
    "\n",
    "Then, support the topic sentence with specific details, examples, and evidence.\n",
    "\n",
    "Vary the sentence length and structure to keep the reader engaged.\n",
    "\n",
    "Finally, end with a strong concluding sentence that summarizes the main points.\n",
    "\n",
    "Remember, practice makes perfect!\n",
    "\n",
    "\"\"\"\n",
    "\n",
    "def count_unique_words(string):\n",
    "    words = string.lower().replace('\\n', ' ').replace(',', '').replace('.', '').split()\n",
    "    unique_words = set(words)\n",
    "    return len(unique_words)\n",
    "\n",
    "print(count_unique_words(string))\n"
   ]
  },
  {
   "cell_type": "markdown",
   "id": "ce5f9e85-0f65-4449-8161-018d0cd078de",
   "metadata": {},
   "source": [
    "4. Function to count vowels in a word"
   ]
  },
  {
   "cell_type": "code",
   "execution_count": 7,
   "id": "6869e2a5-9093-4dc9-827f-495907c2070d",
   "metadata": {},
   "outputs": [
    {
     "name": "stdout",
     "output_type": "stream",
     "text": [
      "6\n"
     ]
    }
   ],
   "source": [
    "def count_vowels(word):\n",
    "    vowels = \"aeiouAEIOU\"\n",
    "    return sum(1 for char in word if char in vowels)\n",
    "\n",
    "print(count_vowels(\"My name is Vedangi\"))  \n"
   ]
  },
  {
   "cell_type": "markdown",
   "id": "8ae59a13-a13c-440c-ae9e-acb5e692d57b",
   "metadata": {},
   "source": [
    "5. Print each animal in all caps"
   ]
  },
  {
   "cell_type": "code",
   "execution_count": 8,
   "id": "e9f88cd1-0d9e-40ec-8f97-52c28fba4568",
   "metadata": {},
   "outputs": [
    {
     "name": "stdout",
     "output_type": "stream",
     "text": [
      "TIGER\n",
      "ELEPHANT\n",
      "MONKEY\n",
      "ZEBRA\n",
      "PANTHER\n"
     ]
    }
   ],
   "source": [
    "animals = ['tiger', 'elephant', 'monkey', 'zebra', 'panther']\n",
    "\n",
    "for animal in animals:\n",
    "    print(animal.upper())\n"
   ]
  },
  {
   "cell_type": "markdown",
   "id": "fa99686f-7b08-4483-94ff-52422f4434b6",
   "metadata": {},
   "source": [
    "6. Iterate from 1 to 20, printing whether each number is odd or even"
   ]
  },
  {
   "cell_type": "code",
   "execution_count": 9,
   "id": "a1756975-046b-4d76-8054-133ed8e3b2e0",
   "metadata": {},
   "outputs": [
    {
     "name": "stdout",
     "output_type": "stream",
     "text": [
      "1 is ODD\n",
      "2 is EVEN\n",
      "3 is ODD\n",
      "4 is EVEN\n",
      "5 is ODD\n",
      "6 is EVEN\n",
      "7 is ODD\n",
      "8 is EVEN\n",
      "9 is ODD\n",
      "10 is EVEN\n",
      "11 is ODD\n",
      "12 is EVEN\n",
      "13 is ODD\n",
      "14 is EVEN\n",
      "15 is ODD\n",
      "16 is EVEN\n",
      "17 is ODD\n",
      "18 is EVEN\n",
      "19 is ODD\n",
      "20 is EVEN\n"
     ]
    }
   ],
   "source": [
    "for num in range(1, 21):\n",
    "    if num % 2 == 0:\n",
    "        print(f\"{num} is EVEN\")\n",
    "    else:\n",
    "        print(f\"{num} is ODD\")\n"
   ]
  },
  {
   "cell_type": "markdown",
   "id": "3d0b419b-3fea-4881-b296-6c8ca23e6d4f",
   "metadata": {},
   "source": [
    "7. Function to return the sum of two integers"
   ]
  },
  {
   "cell_type": "code",
   "execution_count": 10,
   "id": "c11e6df6-4135-459b-94db-20c1604ec07a",
   "metadata": {},
   "outputs": [
    {
     "name": "stdin",
     "output_type": "stream",
     "text": [
      "Enter first integer:  45\n",
      "Enter second integer:  65\n"
     ]
    },
    {
     "name": "stdout",
     "output_type": "stream",
     "text": [
      "Sum: 110\n"
     ]
    }
   ],
   "source": [
    "def sum_of_integers(a, b):\n",
    "    return a + b\n",
    "\n",
    "# Taking input from user\n",
    "a = int(input(\"Enter first integer: \"))\n",
    "b = int(input(\"Enter second integer: \"))\n",
    "\n",
    "print(\"Sum:\", sum_of_integers(a, b))\n"
   ]
  }
 ],
 "metadata": {
  "kernelspec": {
   "display_name": "Python 3 (ipykernel)",
   "language": "python",
   "name": "python3"
  },
  "language_info": {
   "codemirror_mode": {
    "name": "ipython",
    "version": 3
   },
   "file_extension": ".py",
   "mimetype": "text/x-python",
   "name": "python",
   "nbconvert_exporter": "python",
   "pygments_lexer": "ipython3",
   "version": "3.13.2"
  }
 },
 "nbformat": 4,
 "nbformat_minor": 5
}
