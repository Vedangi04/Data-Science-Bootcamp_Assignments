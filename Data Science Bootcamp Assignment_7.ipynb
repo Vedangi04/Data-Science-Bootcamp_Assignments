{
 "cells": [
  {
   "cell_type": "markdown",
   "id": "9af62a7f-e8e7-408b-9a8a-5f3b32d1234d",
   "metadata": {},
   "source": [
    "1. How do you assess the statistical significance of an insight?\n",
    "\n",
    "Statistical significance is assessed using hypothesis testing. This typically involves:\n",
    "Formulating a null hypothesis (H₀) (e.g., no difference or effect).\n",
    "Calculating a p-value — the probability of observing the data (or more extreme) if H₀ is true.\n",
    "Choosing a significance level (α), usually 0.05.\n",
    "If the p-value < α, we reject the null hypothesis, indicating the result is statistically significant.\n",
    "\n",
    "We may also use confidence intervals and check whether they include a \"null\" value (e.g., 0 for differences or 1 for ratios).\n",
    "\n"
   ]
  },
  {
   "cell_type": "markdown",
   "id": "1b5e8749-7112-4c51-b9c2-0568cf4158d4",
   "metadata": {},
   "source": [
    "2. What is the Central Limit Theorem? Explain it. Why is it important?\n",
    "\n",
    "\n",
    "Regardless of the population's distribution, the sampling distribution of the sample mean approaches a normal distribution as the sample size becomes large (typically n ≥ 30).\n",
    "Why it’s important:\n",
    "Enables the use of normal-based inference (e.g., z-tests, confidence intervals) even if the population is not normal.\n",
    "Forms the foundation for many statistical methods like A/B testing, confidence intervals, and regression.\n",
    "\n"
   ]
  },
  {
   "cell_type": "markdown",
   "id": "7fc33030-6f24-4374-b7d1-79c07d7f6fe3",
   "metadata": {},
   "source": [
    "3. What is statistical power?\n",
    "\n",
    "Statistical power is the probability of correctly rejecting the null hypothesis when it is false.\n",
    "\n",
    "It depends on:\n",
    "Effect size\n",
    "Sample size\n",
    "Significance level (α)\n",
    "Variability in the data\n",
    "\n",
    "High power (e.g., >80%) reduces the risk of a Type II error."
   ]
  },
  {
   "cell_type": "markdown",
   "id": "f1fc5138-351a-4df2-b026-6031aabb2f6d",
   "metadata": {},
   "source": [
    "4. How do you control for biases?\n",
    "\n",
    "To control for bias in statistical analysis:\n",
    "Randomization: Ensures treatment and control groups are comparable.\n",
    "\n",
    "Blinding: Prevents participants or researchers from influencing outcomes.\n",
    "\n",
    "Stratification/Matching: Balances key variables between groups.\n",
    "\n",
    "Statistical adjustments: Use techniques like regression to control for confounders.\n",
    "\n",
    "Data quality checks: Ensure data collection methods are standardized and unbiased."
   ]
  },
  {
   "cell_type": "markdown",
   "id": "1a975cd9-811c-4c29-b9b7-8ca79fe1c372",
   "metadata": {},
   "source": [
    "5. What are confounding variables?\n",
    "\n",
    "A confounding variable is a third variable that:\n",
    "Affects both the independent variable and the dependent variable,\n",
    "Leading to a spurious association if not accounted for.\n",
    "\n",
    "Example: Studying the relationship between ice cream sales and drowning might show correlation — but the confounder is temperature (which increases both).\n",
    "\n",
    "Controlling confounders involves:\n",
    "Random assignment\n",
    "Stratification\n",
    "Regression analysis"
   ]
  },
  {
   "cell_type": "markdown",
   "id": "01bf7fd3-6d05-4528-a534-17d9cd661d20",
   "metadata": {},
   "source": [
    "6. What is A/B testing?\n",
    "\n",
    "A/B testing is an experimental method to compare two versions (A and B) to determine which performs better on a specific metric.\n",
    "\n",
    "Process:\n",
    "Randomly split users into two groups.\n",
    "Expose Group A to version A (control), and Group B to version B (variant).\n",
    "Measure performance (e.g., click-through rate).\n",
    "Use statistical tests (e.g., t-test) to assess significance.\n",
    "\n",
    "A/B testing is widely used in product optimization, UI changes, marketing, etc."
   ]
  },
  {
   "cell_type": "markdown",
   "id": "74c43d3b-4efe-42c9-92e8-7027ec8f965a",
   "metadata": {},
   "source": [
    "7. What are confidence intervals?\n",
    "\n",
    "A confidence interval (CI) gives a range of values that is likely to contain the population parameter with a specified confidence level (e.g., 95%).\n",
    "Interpretation:\n",
    "If we repeated the experiment 100 times, approximately 95 of the CIs would contain the true value.\n",
    "\n",
    "Example:\n",
    "If a 95% CI for a mean difference is (2.5, 4.8), we are 95% confident that the true mean difference lies between 2.5 and 4.8."
   ]
  }
 ],
 "metadata": {
  "kernelspec": {
   "display_name": "Python 3 (ipykernel)",
   "language": "python",
   "name": "python3"
  },
  "language_info": {
   "codemirror_mode": {
    "name": "ipython",
    "version": 3
   },
   "file_extension": ".py",
   "mimetype": "text/x-python",
   "name": "python",
   "nbconvert_exporter": "python",
   "pygments_lexer": "ipython3",
   "version": "3.13.2"
  }
 },
 "nbformat": 4,
 "nbformat_minor": 5
}
