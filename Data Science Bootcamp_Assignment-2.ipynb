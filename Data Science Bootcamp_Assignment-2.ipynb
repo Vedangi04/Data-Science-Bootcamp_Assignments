{
 "cells": [
  {
   "cell_type": "markdown",
   "id": "beec2015-751a-48da-bb5e-e9ee622bd0be",
   "metadata": {},
   "source": [
    "Part 1 - Numpy"
   ]
  },
  {
   "cell_type": "code",
   "execution_count": 6,
   "id": "bbd4d184-06a0-419d-97b4-79d2b89632fe",
   "metadata": {},
   "outputs": [],
   "source": [
    "import numpy as np"
   ]
  },
  {
   "cell_type": "code",
   "execution_count": 7,
   "id": "21fdbce9-f5ab-4d1e-925f-4337eed4700b",
   "metadata": {},
   "outputs": [],
   "source": [
    "url = 'https://archive.ics.uci.edu/ml/machine-learning-databases/iris/iris.data'\n",
    "\n",
    "iris_2d = np.genfromtxt(url, delimiter=',', dtype='float', usecols=[0,1,2,3])"
   ]
  },
  {
   "cell_type": "markdown",
   "id": "3b6c1376-6edc-432a-b44d-e616a9facadd",
   "metadata": {},
   "source": [
    "1.⁠ ⁠Define two custom numpy arrays, say A and B. Generate two new numpy arrays by stacking A and B vertically and horizontally."
   ]
  },
  {
   "cell_type": "code",
   "execution_count": 8,
   "id": "7ef3c043-7515-4e80-a377-f06f9a682c9e",
   "metadata": {},
   "outputs": [
    {
     "name": "stdout",
     "output_type": "stream",
     "text": [
      "Vertically Stacked Array:\n",
      " [[ 1  2  3]\n",
      " [ 4  5  6]\n",
      " [ 7  8  9]\n",
      " [10 11 12]]\n",
      "Horizontally Stacked Array:\n",
      " [[ 1  2  3  7  8  9]\n",
      " [ 4  5  6 10 11 12]]\n"
     ]
    }
   ],
   "source": [
    "# Define arrays A and B\n",
    "A = np.array([[1, 2, 3], [4, 5, 6]])\n",
    "B = np.array([[7, 8, 9], [10, 11, 12]])\n",
    "\n",
    "# Stack A and B vertically\n",
    "vertical_stack = np.vstack((A, B))\n",
    "print(\"Vertically Stacked Array:\\n\", vertical_stack)\n",
    "\n",
    "# Stack A and B horizontally\n",
    "horizontal_stack = np.hstack((A, B))\n",
    "print(\"Horizontally Stacked Array:\\n\", horizontal_stack)"
   ]
  },
  {
   "cell_type": "markdown",
   "id": "e3ef3081-dc5d-4157-85d8-2281821ca368",
   "metadata": {},
   "source": [
    "2. Find common elements between A and B"
   ]
  },
  {
   "cell_type": "code",
   "execution_count": 15,
   "id": "4eef60dd-43fe-4da6-a8f1-0e4510e07b7c",
   "metadata": {},
   "outputs": [
    {
     "name": "stdout",
     "output_type": "stream",
     "text": [
      "Common Elements between A and B: [2 3 4 5]\n"
     ]
    }
   ],
   "source": [
    "# Define NumPy arrays A and B\n",
    "A = np.array([[1, 2, 3], [4, 5, 6]])\n",
    "B = np.array([[4, 5, 9], [2, 3, 12]])\n",
    "\n",
    "common_elements = np.intersect1d(A, B)\n",
    "\n",
    "print(\"Common Elements between A and B:\", common_elements)"
   ]
  },
  {
   "cell_type": "markdown",
   "id": "9835174b-7b36-46f9-915c-a261d8a20d6f",
   "metadata": {},
   "source": [
    "3.⁠ ⁠Extract all numbers from A which are within a specific range. eg between 5 and 10. [Hint: np.where() might be useful or boolean masks]"
   ]
  },
  {
   "cell_type": "code",
   "execution_count": 16,
   "id": "2e205f55-0c23-482e-ae01-93e5cb1c1d12",
   "metadata": {},
   "outputs": [
    {
     "name": "stdout",
     "output_type": "stream",
     "text": [
      "Numbers in A between 5 and 10: [5 7 9]\n"
     ]
    }
   ],
   "source": [
    "A = np.array([1, 3, 5, 7, 9, 11, 13])\n",
    "\n",
    "min_val, max_val = 5, 10 \n",
    "\n",
    "filtered_elements = A[(A >= min_val) & (A <= max_val)]\n",
    "\n",
    "print(\"Numbers in A between 5 and 10:\", filtered_elements)"
   ]
  },
  {
   "cell_type": "markdown",
   "id": "9c9c788b-583c-4b82-9a2b-b700fd6d549e",
   "metadata": {},
   "source": [
    "4.⁠ ⁠Filter the rows of iris_2d that has petallength (3rd column) > 1.5 and sepallength (1st column) < 5.0"
   ]
  },
  {
   "cell_type": "markdown",
   "id": "979b5e1c-3f66-4af0-9e4f-912f231a73b9",
   "metadata": {},
   "source": [
    "filtered_iris = iris_2d[(iris_2d[:, 2] > 1.5) & (iris_2d[:, 0] < 5.0)]\n",
    "print(\"Filtered rows from iris_2d:\\n\", filtered_iris)"
   ]
  },
  {
   "cell_type": "markdown",
   "id": "47f0dcf8-b134-4194-b32c-9b14db700c6c",
   "metadata": {},
   "source": [
    "Part 2 - Pandas"
   ]
  },
  {
   "cell_type": "code",
   "execution_count": 1,
   "id": "95390e66-10e0-41b8-88fd-118b98ed8789",
   "metadata": {},
   "outputs": [],
   "source": [
    "import pandas as pd"
   ]
  },
  {
   "cell_type": "markdown",
   "id": "384be47d-adcc-4b7c-a41d-bfd7e6b6e817",
   "metadata": {},
   "source": [
    "1.⁠ ⁠From df filter the 'Manufacturer', 'Model' and 'Type' for every 20th row starting from 1st (row 0)."
   ]
  },
  {
   "cell_type": "code",
   "execution_count": 2,
   "id": "70182b6e-f28d-4d41-b3fb-3c6470c91f80",
   "metadata": {},
   "outputs": [],
   "source": [
    "df = pd.read_csv('https://raw.githubusercontent.com/selva86/datasets/master/Cars93_miss.csv')"
   ]
  },
  {
   "cell_type": "code",
   "execution_count": 3,
   "id": "c17ff2d4-b0bf-43a2-8930-b5a2615c300a",
   "metadata": {},
   "outputs": [
    {
     "name": "stdout",
     "output_type": "stream",
     "text": [
      "   Manufacturer    Model     Type\n",
      "0         Acura  Integra    Small\n",
      "20     Chrysler  LeBaron  Compact\n",
      "40        Honda  Prelude   Sporty\n",
      "60      Mercury   Cougar  Midsize\n",
      "80       Subaru   Loyale    Small\n"
     ]
    }
   ],
   "source": [
    "filtered_df = df.iloc[::20, :][['Manufacturer', 'Model', 'Type']]\n",
    "print(filtered_df)"
   ]
  },
  {
   "cell_type": "markdown",
   "id": "5754e25b-9853-42ef-a4b8-23f1d8f79e62",
   "metadata": {},
   "source": [
    "2.⁠ ⁠Replace missing values in Min.Price and Max.Price columns with their respective mean."
   ]
  },
  {
   "cell_type": "code",
   "execution_count": 6,
   "id": "7314815b-3d39-4049-bc6f-d699c58abcb1",
   "metadata": {},
   "outputs": [
    {
     "name": "stdout",
     "output_type": "stream",
     "text": [
      "   Min.Price  Max.Price\n",
      "0  12.900000  18.800000\n",
      "1  29.200000  38.700000\n",
      "2  25.900000  32.300000\n",
      "3  17.118605  44.600000\n",
      "4  17.118605  21.459091\n"
     ]
    }
   ],
   "source": [
    "df.loc[:, 'Min.Price'] = df['Min.Price'].fillna(df['Min.Price'].mean())\n",
    "df.loc[:, 'Max.Price'] = df['Max.Price'].fillna(df['Max.Price'].mean())\n",
    "\n",
    "print(df[['Min.Price', 'Max.Price']].head())"
   ]
  },
  {
   "cell_type": "markdown",
   "id": "d5af2494-0bfe-47f4-8bf2-f350d041ddfb",
   "metadata": {},
   "source": [
    "3. Get the rows of a dataframe where row sum > 100"
   ]
  },
  {
   "cell_type": "code",
   "execution_count": 11,
   "id": "31fff482-bc50-4eb5-a91b-315eded89d7b",
   "metadata": {},
   "outputs": [
    {
     "data": {
      "text/html": [
       "<div>\n",
       "<style scoped>\n",
       "    .dataframe tbody tr th:only-of-type {\n",
       "        vertical-align: middle;\n",
       "    }\n",
       "\n",
       "    .dataframe tbody tr th {\n",
       "        vertical-align: top;\n",
       "    }\n",
       "\n",
       "    .dataframe thead th {\n",
       "        text-align: right;\n",
       "    }\n",
       "</style>\n",
       "<table border=\"1\" class=\"dataframe\">\n",
       "  <thead>\n",
       "    <tr style=\"text-align: right;\">\n",
       "      <th></th>\n",
       "      <th>0</th>\n",
       "      <th>1</th>\n",
       "      <th>2</th>\n",
       "      <th>3</th>\n",
       "    </tr>\n",
       "  </thead>\n",
       "  <tbody>\n",
       "    <tr>\n",
       "      <th>1</th>\n",
       "      <td>23</td>\n",
       "      <td>39</td>\n",
       "      <td>39</td>\n",
       "      <td>18</td>\n",
       "    </tr>\n",
       "    <tr>\n",
       "      <th>3</th>\n",
       "      <td>28</td>\n",
       "      <td>38</td>\n",
       "      <td>14</td>\n",
       "      <td>23</td>\n",
       "    </tr>\n",
       "    <tr>\n",
       "      <th>4</th>\n",
       "      <td>24</td>\n",
       "      <td>24</td>\n",
       "      <td>38</td>\n",
       "      <td>33</td>\n",
       "    </tr>\n",
       "    <tr>\n",
       "      <th>6</th>\n",
       "      <td>10</td>\n",
       "      <td>37</td>\n",
       "      <td>29</td>\n",
       "      <td>26</td>\n",
       "    </tr>\n",
       "    <tr>\n",
       "      <th>8</th>\n",
       "      <td>22</td>\n",
       "      <td>15</td>\n",
       "      <td>38</td>\n",
       "      <td>31</td>\n",
       "    </tr>\n",
       "    <tr>\n",
       "      <th>9</th>\n",
       "      <td>19</td>\n",
       "      <td>24</td>\n",
       "      <td>29</td>\n",
       "      <td>37</td>\n",
       "    </tr>\n",
       "    <tr>\n",
       "      <th>10</th>\n",
       "      <td>22</td>\n",
       "      <td>35</td>\n",
       "      <td>19</td>\n",
       "      <td>25</td>\n",
       "    </tr>\n",
       "    <tr>\n",
       "      <th>13</th>\n",
       "      <td>30</td>\n",
       "      <td>24</td>\n",
       "      <td>35</td>\n",
       "      <td>18</td>\n",
       "    </tr>\n",
       "    <tr>\n",
       "      <th>14</th>\n",
       "      <td>37</td>\n",
       "      <td>12</td>\n",
       "      <td>38</td>\n",
       "      <td>23</td>\n",
       "    </tr>\n",
       "  </tbody>\n",
       "</table>\n",
       "</div>"
      ],
      "text/plain": [
       "     0   1   2   3\n",
       "1   23  39  39  18\n",
       "3   28  38  14  23\n",
       "4   24  24  38  33\n",
       "6   10  37  29  26\n",
       "8   22  15  38  31\n",
       "9   19  24  29  37\n",
       "10  22  35  19  25\n",
       "13  30  24  35  18\n",
       "14  37  12  38  23"
      ]
     },
     "metadata": {},
     "output_type": "display_data"
    }
   ],
   "source": [
    "# Create a DataFrame with random integers between 10 and 40\n",
    "df = pd.DataFrame(np.random.randint(10, 40, 60).reshape(-1, 4))\n",
    "\n",
    "# Select rows where row sum > 100\n",
    "filtered_rows = df[df.sum(axis=1) > 100]\n",
    "\n",
    "# Display the DataFrame\n",
    "display(filtered_rows)"
   ]
  }
 ],
 "metadata": {
  "kernelspec": {
   "display_name": "Python 3 (ipykernel)",
   "language": "python",
   "name": "python3"
  },
  "language_info": {
   "codemirror_mode": {
    "name": "ipython",
    "version": 3
   },
   "file_extension": ".py",
   "mimetype": "text/x-python",
   "name": "python",
   "nbconvert_exporter": "python",
   "pygments_lexer": "ipython3",
   "version": "3.13.2"
  }
 },
 "nbformat": 4,
 "nbformat_minor": 5
}
