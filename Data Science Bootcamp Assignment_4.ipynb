{
 "cells": [
  {
   "cell_type": "code",
   "execution_count": 1,
   "id": "5285d10d-bfdf-4e1f-bae0-4bdcf6ca3d58",
   "metadata": {},
   "outputs": [
    {
     "data": {
      "text/plain": [
       "(        date  order_id  item_id  customer_id  quantity  revenue\n",
       " 0 2023-03-18       201        1          101         1     1200\n",
       " 1 2023-03-18       202        2          102         2     1600\n",
       " 2 2023-01-15       203        3          103         1      150\n",
       " 3 2023-01-20       204        2          104         1      800\n",
       " 4 2023-01-30       205        4          105         1      300,\n",
       "    item_id   item_name  price   department\n",
       " 0        1      Laptop   1200  Electronics\n",
       " 1        2       Phone    800  Electronics\n",
       " 2        3  Headphones    150  Electronics\n",
       " 3        4        Desk    300    Furniture\n",
       " 4        5       Chair    200    Furniture,\n",
       "    customer_id first_name last_name address\n",
       " 0          101       John       Doe      NY\n",
       " 1          102      Alice     Smith      CA\n",
       " 2          103        Bob       Lee      TX\n",
       " 3          104       John      Wick      NY\n",
       " 4          105        Eve       Doe      FL)"
      ]
     },
     "execution_count": 1,
     "metadata": {},
     "output_type": "execute_result"
    }
   ],
   "source": [
    "import pandas as pd\n",
    "from datetime import datetime\n",
    "\n",
    "items_data = {\n",
    "    'item_id': [1, 2, 3, 4, 5],\n",
    "    'item_name': ['Laptop', 'Phone', 'Headphones', 'Desk', 'Chair'],\n",
    "    'price': [1200, 800, 150, 300, 200],\n",
    "    'department': ['Electronics', 'Electronics', 'Electronics', 'Furniture', 'Furniture']\n",
    "}\n",
    "items = pd.DataFrame(items_data)\n",
    "\n",
    "customers_data = {\n",
    "    'customer_id': [101, 102, 103, 104, 105],\n",
    "    'first_name': ['John', 'Alice', 'Bob', 'John', 'Eve'],\n",
    "    'last_name': ['Doe', 'Smith', 'Lee', 'Wick', 'Doe'],\n",
    "    'address': ['NY', 'CA', 'TX', 'NY', 'FL']\n",
    "}\n",
    "customers = pd.DataFrame(customers_data)\n",
    "\n",
    "sales_data = {\n",
    "    'date': [\n",
    "        '2023-03-18', '2023-03-18', '2023-01-15', '2023-01-20', '2023-01-30',\n",
    "        '2022-11-15', '2022-05-12', '2022-07-10', '2023-03-18'\n",
    "    ],\n",
    "    'order_id': [201, 202, 203, 204, 205, 206, 207, 208, 209],\n",
    "    'item_id': [1, 2, 3, 2, 4, 4, 5, 1, 1],\n",
    "    'customer_id': [101, 102, 103, 104, 105, 101, 102, 104, 101],\n",
    "    'quantity': [1, 2, 1, 1, 1, 1, 3, 1, 2],\n",
    "    'revenue': [1200, 1600, 150, 800, 300, 300, 600, 1200, 2400]\n",
    "}\n",
    "sales = pd.DataFrame(sales_data)\n",
    "\n",
    "\n",
    "sales['date'] = pd.to_datetime(sales['date'])\n",
    "\n",
    "sales.head(), items.head(), customers.head()\n"
   ]
  },
  {
   "cell_type": "markdown",
   "id": "27686b21-36a7-4af7-85a1-bfd043dcd984",
   "metadata": {},
   "source": [
    "Total number of orders completed on 18th March 2023"
   ]
  },
  {
   "cell_type": "code",
   "execution_count": 2,
   "id": "cccc2e25-e6f3-42f8-974b-127bfa9dd4fe",
   "metadata": {},
   "outputs": [
    {
     "name": "stdout",
     "output_type": "stream",
     "text": [
      "Total orders on 18th March 2023: 3\n"
     ]
    }
   ],
   "source": [
    "orders_march18 = sales[sales['date'] == '2023-03-18']\n",
    "total_orders_march18 = orders_march18['order_id'].nunique()\n",
    "print(\"Total orders on 18th March 2023:\", total_orders_march18)"
   ]
  },
  {
   "cell_type": "markdown",
   "id": "04d86157-6d69-4a8b-9980-19b5b034abca",
   "metadata": {},
   "source": [
    "Orders on 18th March 2023 with first name ‘John’ and last name ‘Doe’"
   ]
  },
  {
   "cell_type": "code",
   "execution_count": 3,
   "id": "367aa8a3-6b96-4b9b-af57-fe964176d380",
   "metadata": {},
   "outputs": [
    {
     "name": "stdout",
     "output_type": "stream",
     "text": [
      "Orders by John Doe on 18th March 2023: 2\n"
     ]
    }
   ],
   "source": [
    "merged = sales.merge(customers, on='customer_id')\n",
    "john_doe_orders = merged[\n",
    "    (merged['date'] == '2023-03-18') &\n",
    "    (merged['first_name'] == 'John') &\n",
    "    (merged['last_name'] == 'Doe')\n",
    "]\n",
    "print(\"Orders by John Doe on 18th March 2023:\", john_doe_orders['order_id'].nunique())"
   ]
  },
  {
   "cell_type": "markdown",
   "id": "e1a3517e-c4c7-4055-bdf5-a3c3aaa4ba25",
   "metadata": {},
   "source": [
    "Total customers who purchased in Jan 2023 & average spend per customer"
   ]
  },
  {
   "cell_type": "code",
   "execution_count": 10,
   "id": "23f1c881-814c-4364-996a-2da88f9f0474",
   "metadata": {},
   "outputs": [
    {
     "name": "stdout",
     "output_type": "stream",
     "text": [
      "Total customers in Jan 2023: 3\n",
      "Average spend per customer: 416.6666666666667\n"
     ]
    }
   ],
   "source": [
    "jan_sales = sales[(sales['date'].dt.month == 1) & (sales['date'].dt.year == 2023)]\n",
    "total_customers_jan = jan_sales['customer_id'].nunique()\n",
    "avg_spend_per_customer = jan_sales.groupby('customer_id')['revenue'].sum().mean()\n",
    "\n",
    "print(\"Total customers in Jan 2023:\", total_customers_jan)\n",
    "print(\"Average spend per customer:\", avg_spend_per_customer)\n"
   ]
  },
  {
   "cell_type": "markdown",
   "id": "c48e3ea1-6c76-41f2-9ab9-9b2122320284",
   "metadata": {},
   "source": [
    "Departments with less than $600 revenue in 2022"
   ]
  },
  {
   "cell_type": "code",
   "execution_count": 5,
   "id": "3bdcfdb4-07e6-4144-ba99-328eb22df87f",
   "metadata": {},
   "outputs": [
    {
     "name": "stdout",
     "output_type": "stream",
     "text": [
      "Departments with < $600 revenue in 2022:\n",
      " Series([], Name: revenue, dtype: int64)\n"
     ]
    }
   ],
   "source": [
    "sales_2022 = sales[sales['date'].dt.year == 2022]\n",
    "sales_2022 = sales_2022.merge(items, on='item_id')\n",
    "dept_revenue_2022 = sales_2022.groupby('department')['revenue'].sum()\n",
    "low_revenue_depts = dept_revenue_2022[dept_revenue_2022 < 600]\n",
    "print(\"Departments with < $600 revenue in 2022:\\n\", low_revenue_depts)"
   ]
  },
  {
   "cell_type": "markdown",
   "id": "46e3ebe3-bc83-4e7d-953e-e754dc1cd43c",
   "metadata": {},
   "source": [
    "Most and least revenue generated by a single order"
   ]
  },
  {
   "cell_type": "code",
   "execution_count": 7,
   "id": "91e2421e-d642-4d40-8a62-4993a52d427d",
   "metadata": {},
   "outputs": [
    {
     "name": "stdout",
     "output_type": "stream",
     "text": [
      "Most revenue from an order: 2400\n",
      "Least revenue from an order: 150\n"
     ]
    }
   ],
   "source": [
    "revenue_by_order = sales.groupby('order_id')['revenue'].sum()\n",
    "print(\"Most revenue from an order:\", revenue_by_order.max())\n",
    "print(\"Least revenue from an order:\", revenue_by_order.min())"
   ]
  },
  {
   "cell_type": "markdown",
   "id": "c22b3d0f-bc96-43c5-a03a-f405b63fd4f9",
   "metadata": {},
   "source": [
    "Orders in the most lucrative order"
   ]
  },
  {
   "cell_type": "code",
   "execution_count": 9,
   "id": "e597d7b7-4b58-45d7-83ac-ae532c6206c7",
   "metadata": {},
   "outputs": [
    {
     "name": "stdout",
     "output_type": "stream",
     "text": [
      "Most lucrative order ID: 209\n"
     ]
    },
    {
     "data": {
      "text/html": [
       "<div>\n",
       "<style scoped>\n",
       "    .dataframe tbody tr th:only-of-type {\n",
       "        vertical-align: middle;\n",
       "    }\n",
       "\n",
       "    .dataframe tbody tr th {\n",
       "        vertical-align: top;\n",
       "    }\n",
       "\n",
       "    .dataframe thead th {\n",
       "        text-align: right;\n",
       "    }\n",
       "</style>\n",
       "<table border=\"1\" class=\"dataframe\">\n",
       "  <thead>\n",
       "    <tr style=\"text-align: right;\">\n",
       "      <th></th>\n",
       "      <th>date</th>\n",
       "      <th>order_id</th>\n",
       "      <th>item_id</th>\n",
       "      <th>customer_id</th>\n",
       "      <th>quantity</th>\n",
       "      <th>revenue</th>\n",
       "    </tr>\n",
       "  </thead>\n",
       "  <tbody>\n",
       "    <tr>\n",
       "      <th>8</th>\n",
       "      <td>2023-03-18</td>\n",
       "      <td>209</td>\n",
       "      <td>1</td>\n",
       "      <td>101</td>\n",
       "      <td>2</td>\n",
       "      <td>2400</td>\n",
       "    </tr>\n",
       "  </tbody>\n",
       "</table>\n",
       "</div>"
      ],
      "text/plain": [
       "        date  order_id  item_id  customer_id  quantity  revenue\n",
       "8 2023-03-18       209        1          101         2     2400"
      ]
     },
     "execution_count": 9,
     "metadata": {},
     "output_type": "execute_result"
    }
   ],
   "source": [
    "most_revenue_order_id = revenue_by_order.idxmax()\n",
    "most_lucrative_orders = sales[sales['order_id'] == most_revenue_order_id]\n",
    "print(\"Most lucrative order ID:\", most_revenue_order_id)\n",
    "most_lucrative_orders"
   ]
  }
 ],
 "metadata": {
  "kernelspec": {
   "display_name": "Python 3 (ipykernel)",
   "language": "python",
   "name": "python3"
  },
  "language_info": {
   "codemirror_mode": {
    "name": "ipython",
    "version": 3
   },
   "file_extension": ".py",
   "mimetype": "text/x-python",
   "name": "python",
   "nbconvert_exporter": "python",
   "pygments_lexer": "ipython3",
   "version": "3.13.2"
  }
 },
 "nbformat": 4,
 "nbformat_minor": 5
}
